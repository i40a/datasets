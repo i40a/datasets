{
 "cells": [
  {
   "cell_type": "markdown",
   "id": "5c80779a",
   "metadata": {},
   "source": [
    "Select loops and save in Pickle file"
   ]
  },
  {
   "cell_type": "code",
   "execution_count": 19,
   "id": "1d4d8725",
   "metadata": {},
   "outputs": [],
   "source": [
    "import pandas as pd\n",
    "from pathlib import Path\n",
    "import pickle"
   ]
  },
  {
   "cell_type": "code",
   "execution_count": 20,
   "id": "d052ebd4",
   "metadata": {},
   "outputs": [
    {
     "data": {
      "text/plain": [
       "dict_keys(['LIC44', 'FIC41', 'FIC37', 'FIC32', 'FIC19', 'FIC14'])"
      ]
     },
     "execution_count": 20,
     "metadata": {},
     "output_type": "execute_result"
    }
   ],
   "source": [
    "file_path = Path.cwd().parents[0] / '1/control_loop.pickle'\n",
    "\n",
    "data = pickle.load(open(file_path, 'rb'))\n",
    "\n",
    "data.keys()"
   ]
  },
  {
   "cell_type": "code",
   "execution_count": 21,
   "id": "720d1a38",
   "metadata": {},
   "outputs": [],
   "source": [
    "save = None\n",
    "for loop in data.keys():\n",
    "    for var in data[loop].keys():\n",
    "        df = data[loop][var]\n",
    "        df['Loop'] = loop\n",
    "        df['Variable'] = var\n",
    "        \n",
    "        if save is None:\n",
    "            save = df\n",
    "            \n",
    "        else:\n",
    "            save = pd.concat((save, df))"
   ]
  },
  {
   "cell_type": "code",
   "execution_count": 22,
   "id": "a7ce88c3",
   "metadata": {},
   "outputs": [],
   "source": [
    "save.to_csv('control_loop.csv')"
   ]
  },
  {
   "cell_type": "code",
   "execution_count": 23,
   "id": "9eb41a7f",
   "metadata": {},
   "outputs": [
    {
     "data": {
      "text/html": [
       "<div>\n",
       "<style scoped>\n",
       "    .dataframe tbody tr th:only-of-type {\n",
       "        vertical-align: middle;\n",
       "    }\n",
       "\n",
       "    .dataframe tbody tr th {\n",
       "        vertical-align: top;\n",
       "    }\n",
       "\n",
       "    .dataframe thead th {\n",
       "        text-align: right;\n",
       "    }\n",
       "</style>\n",
       "<table border=\"1\" class=\"dataframe\">\n",
       "  <thead>\n",
       "    <tr style=\"text-align: right;\">\n",
       "      <th></th>\n",
       "      <th>Values</th>\n",
       "      <th>Quality</th>\n",
       "      <th>Loop</th>\n",
       "      <th>Variable</th>\n",
       "    </tr>\n",
       "    <tr>\n",
       "      <th>Time</th>\n",
       "      <th></th>\n",
       "      <th></th>\n",
       "      <th></th>\n",
       "      <th></th>\n",
       "    </tr>\n",
       "  </thead>\n",
       "  <tbody>\n",
       "    <tr>\n",
       "      <th>2017-10-06 12:00:00.964</th>\n",
       "      <td>-0.150941</td>\n",
       "      <td>2</td>\n",
       "      <td>LIC44</td>\n",
       "      <td>MV</td>\n",
       "    </tr>\n",
       "    <tr>\n",
       "      <th>2017-10-06 12:00:03.023</th>\n",
       "      <td>-0.141925</td>\n",
       "      <td>2</td>\n",
       "      <td>LIC44</td>\n",
       "      <td>MV</td>\n",
       "    </tr>\n",
       "    <tr>\n",
       "      <th>2017-10-06 12:00:05.083</th>\n",
       "      <td>-0.137769</td>\n",
       "      <td>2</td>\n",
       "      <td>LIC44</td>\n",
       "      <td>MV</td>\n",
       "    </tr>\n",
       "    <tr>\n",
       "      <th>2017-10-06 12:00:07.142</th>\n",
       "      <td>-0.133240</td>\n",
       "      <td>2</td>\n",
       "      <td>LIC44</td>\n",
       "      <td>MV</td>\n",
       "    </tr>\n",
       "    <tr>\n",
       "      <th>2017-10-06 12:00:09.201</th>\n",
       "      <td>-0.164665</td>\n",
       "      <td>2</td>\n",
       "      <td>LIC44</td>\n",
       "      <td>MV</td>\n",
       "    </tr>\n",
       "    <tr>\n",
       "      <th>...</th>\n",
       "      <td>...</td>\n",
       "      <td>...</td>\n",
       "      <td>...</td>\n",
       "      <td>...</td>\n",
       "    </tr>\n",
       "    <tr>\n",
       "      <th>2017-10-08 23:59:51.897</th>\n",
       "      <td>0.138086</td>\n",
       "      <td>2</td>\n",
       "      <td>FIC14</td>\n",
       "      <td>SP</td>\n",
       "    </tr>\n",
       "    <tr>\n",
       "      <th>2017-10-08 23:59:53.956</th>\n",
       "      <td>0.138640</td>\n",
       "      <td>2</td>\n",
       "      <td>FIC14</td>\n",
       "      <td>SP</td>\n",
       "    </tr>\n",
       "    <tr>\n",
       "      <th>2017-10-08 23:59:56.016</th>\n",
       "      <td>0.139064</td>\n",
       "      <td>2</td>\n",
       "      <td>FIC14</td>\n",
       "      <td>SP</td>\n",
       "    </tr>\n",
       "    <tr>\n",
       "      <th>2017-10-08 23:59:58.075</th>\n",
       "      <td>0.138427</td>\n",
       "      <td>2</td>\n",
       "      <td>FIC14</td>\n",
       "      <td>SP</td>\n",
       "    </tr>\n",
       "    <tr>\n",
       "      <th>2017-10-08 23:59:59.105</th>\n",
       "      <td>0.138898</td>\n",
       "      <td>2</td>\n",
       "      <td>FIC14</td>\n",
       "      <td>SP</td>\n",
       "    </tr>\n",
       "  </tbody>\n",
       "</table>\n",
       "<p>1724655 rows × 4 columns</p>\n",
       "</div>"
      ],
      "text/plain": [
       "                           Values  Quality   Loop Variable\n",
       "Time                                                      \n",
       "2017-10-06 12:00:00.964 -0.150941        2  LIC44       MV\n",
       "2017-10-06 12:00:03.023 -0.141925        2  LIC44       MV\n",
       "2017-10-06 12:00:05.083 -0.137769        2  LIC44       MV\n",
       "2017-10-06 12:00:07.142 -0.133240        2  LIC44       MV\n",
       "2017-10-06 12:00:09.201 -0.164665        2  LIC44       MV\n",
       "...                           ...      ...    ...      ...\n",
       "2017-10-08 23:59:51.897  0.138086        2  FIC14       SP\n",
       "2017-10-08 23:59:53.956  0.138640        2  FIC14       SP\n",
       "2017-10-08 23:59:56.016  0.139064        2  FIC14       SP\n",
       "2017-10-08 23:59:58.075  0.138427        2  FIC14       SP\n",
       "2017-10-08 23:59:59.105  0.138898        2  FIC14       SP\n",
       "\n",
       "[1724655 rows x 4 columns]"
      ]
     },
     "execution_count": 23,
     "metadata": {},
     "output_type": "execute_result"
    }
   ],
   "source": [
    "save"
   ]
  },
  {
   "cell_type": "code",
   "execution_count": null,
   "id": "94bef13c",
   "metadata": {},
   "outputs": [],
   "source": []
  }
 ],
 "metadata": {
  "kernelspec": {
   "display_name": "Python 3 (ipykernel)",
   "language": "python",
   "name": "python3"
  },
  "language_info": {
   "codemirror_mode": {
    "name": "ipython",
    "version": 3
   },
   "file_extension": ".py",
   "mimetype": "text/x-python",
   "name": "python",
   "nbconvert_exporter": "python",
   "pygments_lexer": "ipython3",
   "version": "3.8.9"
  }
 },
 "nbformat": 4,
 "nbformat_minor": 5
}
