{
 "cells": [
  {
   "cell_type": "markdown",
   "id": "affaefa8",
   "metadata": {},
   "source": [
    "Get 100 examples in csv file"
   ]
  },
  {
   "cell_type": "code",
   "execution_count": 43,
   "id": "e0c23cdc",
   "metadata": {},
   "outputs": [],
   "source": [
    "import pandas as pd\n",
    "from pathlib import Path"
   ]
  },
  {
   "cell_type": "code",
   "execution_count": 44,
   "id": "7517fb59",
   "metadata": {},
   "outputs": [],
   "source": [
    "file_path = Path.cwd().parents[1] / 'original/oscillation.p'\n",
    "\n",
    "import pickle\n",
    "file = open(file_path,'rb')\n",
    "\n",
    "data = pickle.load(file)"
   ]
  },
  {
   "cell_type": "code",
   "execution_count": 38,
   "id": "374f6348",
   "metadata": {},
   "outputs": [],
   "source": [
    "data_dic = {} \n",
    "info_dic = {}\n",
    "\n",
    "for ind, d in enumerate(data[0][:100]):\n",
    "    data_dic[ind] = d\n",
    "    info_dic[ind] = data[1][ind]"
   ]
  },
  {
   "cell_type": "code",
   "execution_count": 39,
   "id": "83151a9a",
   "metadata": {},
   "outputs": [],
   "source": [
    "df = pd.DataFrame.from_dict(data_dic, orient='index')\n",
    "df = df.transpose()\n",
    "df.to_csv('data.csv', index=False)"
   ]
  },
  {
   "cell_type": "code",
   "execution_count": 40,
   "id": "3d45241e",
   "metadata": {},
   "outputs": [],
   "source": [
    "df = pd.DataFrame.from_dict(info_dic, orient='index')\n",
    "df.to_csv('info.csv', index=False)"
   ]
  }
 ],
 "metadata": {
  "kernelspec": {
   "display_name": "Python 3 (ipykernel)",
   "language": "python",
   "name": "python3"
  },
  "language_info": {
   "codemirror_mode": {
    "name": "ipython",
    "version": 3
   },
   "file_extension": ".py",
   "mimetype": "text/x-python",
   "name": "python",
   "nbconvert_exporter": "python",
   "pygments_lexer": "ipython3",
   "version": "3.8.9"
  }
 },
 "nbformat": 4,
 "nbformat_minor": 5
}
